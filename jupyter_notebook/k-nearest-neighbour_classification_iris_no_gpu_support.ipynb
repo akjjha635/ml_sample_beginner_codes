{
 "cells": [
  {
   "cell_type": "markdown",
   "metadata": {},
   "source": [
    "Import the libraries"
   ]
  },
  {
   "cell_type": "code",
   "execution_count": 1,
   "metadata": {},
   "outputs": [
    {
     "name": "stdout",
     "output_type": "stream",
     "text": [
      "\n",
      "WARNING: The TensorFlow contrib module will not be included in TensorFlow 2.0.\n",
      "For more information, please see:\n",
      "  * https://github.com/tensorflow/community/blob/master/rfcs/20180907-contrib-sunset.md\n",
      "  * https://github.com/tensorflow/addons\n",
      "If you depend on functionality not listed there, please file an issue.\n",
      "\n"
     ]
    }
   ],
   "source": [
    "import numpy as np\n",
    "import tensorflow as tf\n",
    "import tensorflow_probability as tpf"
   ]
  },
  {
   "cell_type": "code",
   "execution_count": 2,
   "metadata": {},
   "outputs": [],
   "source": [
    "data = np.genfromtxt(\"/tf/datasets/iris_species/Iris.csv\", delimiter=',', dtype=None, encoding=\"utf8\", skip_header = 1, usecols=[1,2,3,4])\n",
    "data_label = np.genfromtxt(\"/tf/datasets/iris_species/Iris.csv\", delimiter=',', dtype=None, encoding=\"utf8\", skip_header = 1, usecols=[5]) "
   ]
  },
  {
   "cell_type": "code",
   "execution_count": 3,
   "metadata": {},
   "outputs": [],
   "source": [
    "data_label = data_label[np.newaxis].T"
   ]
  },
  {
   "cell_type": "code",
   "execution_count": 4,
   "metadata": {},
   "outputs": [],
   "source": [
    "indices = np.random.permutation(data.shape[0])\n",
    "training_idx, test_idx = indices[:120], indices[120:]\n",
    "training, training_label, test, test_label = data[training_idx,:], data_label[training_idx,:], data[test_idx,:], data_label[test_idx,:]"
   ]
  },
  {
   "cell_type": "code",
   "execution_count": 54,
   "metadata": {},
   "outputs": [
    {
     "data": {
      "text/plain": [
       "array([131, 140,  93,  33,  55,  69, 113,  29,  63,  72,  10,  47,  91,\n",
       "        19,  87,  97,  73, 110, 142, 147, 123,  17,  79,  66,  59, 146,\n",
       "       124,  24, 120, 118])"
      ]
     },
     "execution_count": 54,
     "metadata": {},
     "output_type": "execute_result"
    }
   ],
   "source": [
    "test_idx"
   ]
  },
  {
   "cell_type": "code",
   "execution_count": 102,
   "metadata": {},
   "outputs": [
    {
     "name": "stdout",
     "output_type": "stream",
     "text": [
      "Error %: 6.666666666666667\n"
     ]
    }
   ],
   "source": [
    "def getEuclidianDistance(xtest, xtrain, xtrain_label, k):\n",
    "    from statistics import mode\n",
    "    distance = []\n",
    "    result = []\n",
    "    for i in range(xtest.shape[0]):\n",
    "        distance.insert(i, [])\n",
    "        for j in range(xtrain.shape[0]):\n",
    "            distance[i].insert(j,sum([pow(xtest[i][m] - xtrain[j][m], 2) for m in range(xtest.shape[1])]))\n",
    "            #print(distance[i][j], xtest[i], xtrain[j])\n",
    "        #print([ xtrain_label[m][0] for m in sorted(range(len(distance[i])), key=lambda n: distance[i][n])[-k:] ])\n",
    "        #print([ xtrain_label[m][0] for m in sorted(range(len(distance[i])), key=lambda n: distance[i][n])[:k] ])\n",
    "        try:\n",
    "            result.insert(i, mode([ xtrain_label[m][0] for m in sorted(range(len(distance[i])), key=lambda n: distance[i][n])[:k] ]))\n",
    "        except:\n",
    "            result.insert(i, \",\".join([xtrain_label[m][0] for m in sorted(range(len(distance[i])), key=lambda n: distance[i][n])[:k]]))\n",
    "    return result\n",
    "\n",
    "prediction = getEuclidianDistance(test, training, training_label, 6)\n",
    "count = 0.0\n",
    "for i,value in enumerate(prediction):\n",
    "    if test_label[i] != value:\n",
    "        count += 1.0\n",
    "        #print(value, test_label[i][0])\n",
    "print(\"Error %: {}\".format((count/test.shape[0])*100))"
   ]
  },
  {
   "cell_type": "code",
   "execution_count": null,
   "metadata": {},
   "outputs": [],
   "source": []
  }
 ],
 "metadata": {
  "kernelspec": {
   "display_name": "Python 3",
   "language": "python",
   "name": "python3"
  },
  "language_info": {
   "codemirror_mode": {
    "name": "ipython",
    "version": 3
   },
   "file_extension": ".py",
   "mimetype": "text/x-python",
   "name": "python",
   "nbconvert_exporter": "python",
   "pygments_lexer": "ipython3",
   "version": "3.5.2"
  }
 },
 "nbformat": 4,
 "nbformat_minor": 2
}
