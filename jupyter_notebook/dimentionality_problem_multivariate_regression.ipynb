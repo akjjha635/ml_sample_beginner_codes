{
 "cells": [
  {
   "cell_type": "code",
   "execution_count": 16,
   "metadata": {},
   "outputs": [],
   "source": [
    "# using the data generated from dimentionality problem\n",
    "# Data sheet: quadritic_equation_data.csv\n",
    "# Multivariate linear regression\n",
    "\n",
    "\n",
    "# Purpose is to demostrate how a linear model performs with or without intraction and higher degree terms."
   ]
  },
  {
   "cell_type": "code",
   "execution_count": 2,
   "metadata": {},
   "outputs": [],
   "source": [
    "import pandas as pd\n",
    "from sklearn import metrics\n",
    "from sklearn import linear_model\n",
    "from sklearn.preprocessing import PolynomialFeatures\n",
    "from sklearn.model_selection import train_test_split"
   ]
  },
  {
   "cell_type": "code",
   "execution_count": 7,
   "metadata": {},
   "outputs": [],
   "source": [
    "#load the data set as a df\n",
    "quad_eq_df = pd.read_csv('quadritic_equation_data.csv')\n",
    "\n",
    "#seperate test and training sets\n",
    "train_df, test_df = train_test_split(quad_eq_df, test_size=0.2)\n",
    "\n",
    "#create a df for independent vars\n",
    "train_independent_var_df = train_df.iloc[:, :-1]\n",
    "test_independent_var_df = test_df.iloc[:, :-1]\n",
    "\n",
    "#prepare independent vars for poly reg\n",
    "poly_preprocessing = PolynomialFeatures(degree=4)\n",
    "poly_train_independent_var_df = poly_preprocessing.fit_transform(train_independent_var_df)\n",
    "poly_test_independent_var_df = poly_preprocessing.fit_transform(test_independent_var_df)\n",
    "\n",
    "#create a df for dependent var\n",
    "train_dependent_var_df = train_df.loc[:, ['result']]\n",
    "test_dependent_var_df = test_df.loc[:, ['result']]"
   ]
  },
  {
   "cell_type": "code",
   "execution_count": 8,
   "metadata": {},
   "outputs": [
    {
     "data": {
      "text/plain": [
       "LinearRegression()"
      ]
     },
     "execution_count": 8,
     "metadata": {},
     "output_type": "execute_result"
    }
   ],
   "source": [
    "#simple linear regression\n",
    "reg = linear_model.LinearRegression()\n",
    "reg.fit(train_independent_var_df, train_dependent_var_df)\n",
    "\n",
    "#poly linear equation\n",
    "\n",
    "poly_reg = linear_model.LinearRegression()\n",
    "poly_reg.fit(poly_train_independent_var_df, train_dependent_var_df)"
   ]
  },
  {
   "cell_type": "code",
   "execution_count": 9,
   "metadata": {},
   "outputs": [
    {
     "data": {
      "text/plain": [
       "(array([[ 0.00000000e+00, -1.76731002e-09,  5.92141333e-10,\n",
       "         -1.04000000e+02, -1.11496255e-12,  3.60000000e+01,\n",
       "         -1.30431614e-14, -5.18982254e-15, -2.45959098e-14,\n",
       "         -1.88205588e-14,  2.89343202e-14,  8.17217388e-15,\n",
       "         -4.38139108e-14,  1.35386494e-14,  2.73635281e-14]]),\n",
       " array([16.33333333]))"
      ]
     },
     "execution_count": 9,
     "metadata": {},
     "output_type": "execute_result"
    }
   ],
   "source": [
    "#print linear req coef and intercept\n",
    "reg.coef_, reg.intercept_\n",
    "\n",
    "#print poly linear reg coef and intercept\n",
    "poly_reg.coef_, poly_reg.intercept_"
   ]
  },
  {
   "cell_type": "code",
   "execution_count": 10,
   "metadata": {},
   "outputs": [],
   "source": [
    "#predict the normal regression model\n",
    "prediction_reg = reg.predict(test_independent_var_df)\n",
    "\n",
    "#predict using the poly reg model\n",
    "prediction_poly_reg = poly_reg.predict(poly_test_independent_var_df)"
   ]
  },
  {
   "cell_type": "code",
   "execution_count": 15,
   "metadata": {},
   "outputs": [
    {
     "data": {
      "text/plain": [
       "1.0"
      ]
     },
     "execution_count": 15,
     "metadata": {},
     "output_type": "execute_result"
    }
   ],
   "source": [
    "#metrics.r2_score(prediction_reg, test_dependent_var_df)\n",
    "\n",
    "metrics.r2_score(prediction_poly_reg, test_dependent_var_df)"
   ]
  },
  {
   "cell_type": "code",
   "execution_count": null,
   "metadata": {},
   "outputs": [],
   "source": []
  }
 ],
 "metadata": {
  "kernelspec": {
   "display_name": "Python 3",
   "language": "python",
   "name": "python3"
  },
  "language_info": {
   "codemirror_mode": {
    "name": "ipython",
    "version": 3
   },
   "file_extension": ".py",
   "mimetype": "text/x-python",
   "name": "python",
   "nbconvert_exporter": "python",
   "pygments_lexer": "ipython3",
   "version": "3.6.9"
  }
 },
 "nbformat": 4,
 "nbformat_minor": 4
}
