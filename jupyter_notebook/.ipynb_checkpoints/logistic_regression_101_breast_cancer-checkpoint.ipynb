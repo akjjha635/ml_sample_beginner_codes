{
 "cells": [
  {
   "cell_type": "code",
   "execution_count": 1,
   "metadata": {},
   "outputs": [
    {
     "name": "stdout",
     "output_type": "stream",
     "text": [
      "\n",
      "WARNING: The TensorFlow contrib module will not be included in TensorFlow 2.0.\n",
      "For more information, please see:\n",
      "  * https://github.com/tensorflow/community/blob/master/rfcs/20180907-contrib-sunset.md\n",
      "  * https://github.com/tensorflow/addons\n",
      "If you depend on functionality not listed there, please file an issue.\n",
      "\n"
     ]
    }
   ],
   "source": [
    "import numpy as np\n",
    "import tensorflow as tf\n",
    "import tensorflow_probability as tfp\n",
    "\n",
    "from tensorflow import keras"
   ]
  },
  {
   "cell_type": "code",
   "execution_count": 2,
   "metadata": {},
   "outputs": [],
   "source": [
    "data = open(\"/tf/datasets/breast_cancer/breast-cancer.csv\", \"r\").readlines()"
   ]
  },
  {
   "cell_type": "code",
   "execution_count": 3,
   "metadata": {},
   "outputs": [],
   "source": [
    "data = [i.strip(\"\\n\").split(\",\") for i in data]"
   ]
  },
  {
   "cell_type": "code",
   "execution_count": 4,
   "metadata": {},
   "outputs": [],
   "source": [
    "dataset = np.array(data)"
   ]
  },
  {
   "cell_type": "code",
   "execution_count": 5,
   "metadata": {},
   "outputs": [],
   "source": [
    "data_mapping = {}\n",
    "for i in range (0, dataset.shape[1]):\n",
    "    data_mapping[i] = list(np.unique(dataset[:,i]))"
   ]
  },
  {
   "cell_type": "code",
   "execution_count": 6,
   "metadata": {},
   "outputs": [],
   "source": [
    "for i in range(0,dataset.shape[1]):\n",
    "    for j in range(0, dataset.shape[0]):\n",
    "        dataset[j][i] = data_mapping[i].index(dataset[j][i])"
   ]
  },
  {
   "cell_type": "code",
   "execution_count": 7,
   "metadata": {},
   "outputs": [],
   "source": [
    "dataset = dataset.astype(\"float64\")"
   ]
  },
  {
   "cell_type": "code",
   "execution_count": 8,
   "metadata": {},
   "outputs": [],
   "source": [
    "indices = np.random.permutation(dataset.shape[0])\n",
    "training_idx, test_idx = indices[:80], indices[80:]\n",
    "training, training_label, test, test_label = dataset[training_idx,:-1], dataset[training_idx,-1], dataset[test_idx,:-1], dataset[test_idx,-1]\n",
    "training_label = training_label[np.newaxis].T\n",
    "test_label = test_label[np.newaxis].T"
   ]
  },
  {
   "cell_type": "code",
   "execution_count": 9,
   "metadata": {},
   "outputs": [
    {
     "name": "stdout",
     "output_type": "stream",
     "text": [
      "WARNING:tensorflow:From /usr/local/lib/python3.5/dist-packages/tensorflow/python/framework/op_def_library.py:263: colocate_with (from tensorflow.python.framework.ops) is deprecated and will be removed in a future version.\n",
      "Instructions for updating:\n",
      "Colocations handled automatically by placer.\n",
      "(?, 1) (?, 1)\n"
     ]
    }
   ],
   "source": [
    "X = tf.placeholder(tf.float64, [None, training.shape[1]])\n",
    "Y = tf.placeholder(tf.float64, [None, 1])\n",
    "W = tf.Variable(tf.zeros([training.shape[1], 1], dtype=tf.float64))\n",
    "B = tf.Variable(tf.zeros([1], dtype=tf.float64))\n",
    "Yo = tf.sigmoid(tf.add(tf.matmul(X,W), B))\n",
    "print(Yo.shape, Y.shape)\n",
    "cost_function = tf.nn.sigmoid_cross_entropy_with_logits(logits = Yo, labels=Y)\n",
    "train_step = tf.train.GradientDescentOptimizer(0.001).minimize(cost_function) "
   ]
  },
  {
   "cell_type": "code",
   "execution_count": 10,
   "metadata": {},
   "outputs": [
    {
     "name": "stdout",
     "output_type": "stream",
     "text": [
      "WARNING:tensorflow:From /usr/local/lib/python3.5/dist-packages/tensorflow_probability/python/stats/sample_stats.py:688: setdiff1d (from tensorflow.python.ops.array_ops) is deprecated and will be removed after 2018-11-30.\n",
      "Instructions for updating:\n",
      "This op will be removed after the deprecation date. Please switch to tf.sets.difference().\n"
     ]
    }
   ],
   "source": [
    "correlation_matrix = tfp.stats.correlation(dataset, sample_axis=0, event_axis=-1)"
   ]
  },
  {
   "cell_type": "code",
   "execution_count": 11,
   "metadata": {},
   "outputs": [],
   "source": [
    "init = tf.global_variables_initializer()"
   ]
  },
  {
   "cell_type": "code",
   "execution_count": 12,
   "metadata": {},
   "outputs": [],
   "source": [
    "sess = tf.Session()\n",
    "sess.run(init)"
   ]
  },
  {
   "cell_type": "code",
   "execution_count": 13,
   "metadata": {},
   "outputs": [],
   "source": [
    "corr_matrix = sess.run(correlation_matrix)"
   ]
  },
  {
   "cell_type": "code",
   "execution_count": 14,
   "metadata": {},
   "outputs": [
    {
     "data": {
      "text/plain": [
       "<Figure size 640x480 with 2 Axes>"
      ]
     },
     "metadata": {},
     "output_type": "display_data"
    }
   ],
   "source": [
    "#This method takes a correlation array as an input and outputs a heatmap\n",
    "def correlation_matrix(df):\n",
    "    from matplotlib import pyplot as plt\n",
    "    from matplotlib import cm as cm\n",
    "\n",
    "    fig = plt.figure()\n",
    "    ax1 = fig.add_subplot(111)\n",
    "    cmap = cm.get_cmap('jet', 30)\n",
    "    cax = ax1.imshow(df, interpolation=\"nearest\", cmap=cmap)\n",
    "    ax1.grid(True)\n",
    "    # Add colorbar, make sure to specify tick locations to match desired ticklabels\n",
    "    fig.colorbar(cax, ticks=[-1, -0.75, -0.5, -0.25, 0,.25,.50,.75,1])\n",
    "    plt.show()\n",
    "correlation_matrix(corr_matrix)"
   ]
  },
  {
   "cell_type": "code",
   "execution_count": 15,
   "metadata": {},
   "outputs": [],
   "source": [
    "feed = {X: training, Y: training_label}\n",
    "epoch = 100000"
   ]
  },
  {
   "cell_type": "code",
   "execution_count": 16,
   "metadata": {},
   "outputs": [
    {
     "name": "stdout",
     "output_type": "stream",
     "text": [
      "W: [[-0.02368604]\n",
      " [-1.24398173]\n",
      " [-0.72830958]\n",
      " [-1.07962482]\n",
      " [ 0.22487162]\n",
      " [-0.56033482]\n",
      " [-0.34460012]\n",
      " [-0.31906131]\n",
      " [-1.25039668]]\n",
      "B: [-0.55886634]\n"
     ]
    }
   ],
   "source": [
    "for i in range(0,epoch):\n",
    "    #print(\"Iteration: {}\".format(i))\n",
    "    sess.run(train_step,feed_dict = feed)\n",
    "    #print(\"W: {}\".format(sess.run(W)))\n",
    "    #print(\"B: {}\".format(sess.run(B)))\n",
    "Wo = sess.run(W)\n",
    "Bo = sess.run(B)\n",
    "print(\"W: {}\".format(sess.run(W)))\n",
    "print(\"B: {}\".format(sess.run(B)))"
   ]
  },
  {
   "cell_type": "code",
   "execution_count": 17,
   "metadata": {},
   "outputs": [],
   "source": [
    "correct_prediction = tf.equal(tf.argmax(Yo,1), tf.argmax(Y, 1))\n",
    "accuracy = tf.reduce_mean(tf.cast(correct_prediction, tf.float32)) "
   ]
  },
  {
   "cell_type": "code",
   "execution_count": 19,
   "metadata": {},
   "outputs": [],
   "source": [
    "count = 0\n",
    "for i in range(0, test.shape[0]):\n",
    "    out = sess.run(tf.sigmoid(tf.add(tf.matmul(Wo.T, test[i][np.newaxis].T), Bo))[0][0])\n",
    "    if int(out) != int(test_label[i]):\n",
    "        count += 1"
   ]
  },
  {
   "cell_type": "code",
   "execution_count": 21,
   "metadata": {},
   "outputs": [
    {
     "data": {
      "text/plain": [
       "0.24271844660194175"
      ]
     },
     "execution_count": 21,
     "metadata": {},
     "output_type": "execute_result"
    }
   ],
   "source": [
    "count/test.shape[0]"
   ]
  },
  {
   "cell_type": "code",
   "execution_count": null,
   "metadata": {},
   "outputs": [],
   "source": []
  }
 ],
 "metadata": {
  "kernelspec": {
   "display_name": "Python 3",
   "language": "python",
   "name": "python3"
  },
  "language_info": {
   "codemirror_mode": {
    "name": "ipython",
    "version": 3
   },
   "file_extension": ".py",
   "mimetype": "text/x-python",
   "name": "python",
   "nbconvert_exporter": "python",
   "pygments_lexer": "ipython3",
   "version": "3.5.2"
  }
 },
 "nbformat": 4,
 "nbformat_minor": 2
}
