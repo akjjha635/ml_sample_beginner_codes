{
 "cells": [
  {
   "cell_type": "markdown",
   "metadata": {},
   "source": [
    "# Analysing the Datasets"
   ]
  },
  {
   "cell_type": "code",
   "execution_count": 1,
   "metadata": {},
   "outputs": [
    {
     "name": "stdout",
     "output_type": "stream",
     "text": [
      "\n",
      "WARNING: The TensorFlow contrib module will not be included in TensorFlow 2.0.\n",
      "For more information, please see:\n",
      "  * https://github.com/tensorflow/community/blob/master/rfcs/20180907-contrib-sunset.md\n",
      "  * https://github.com/tensorflow/addons\n",
      "If you depend on functionality not listed there, please file an issue.\n",
      "\n"
     ]
    }
   ],
   "source": [
    "import numpy as np\n",
    "import tensorflow as tf\n",
    "import tensorflow_probability as tfp\n",
    "\n",
    "from tensorflow import keras"
   ]
  },
  {
   "cell_type": "code",
   "execution_count": 2,
   "metadata": {},
   "outputs": [],
   "source": [
    "boston_dataset = keras.datasets.boston_housing"
   ]
  },
  {
   "cell_type": "code",
   "execution_count": 3,
   "metadata": {},
   "outputs": [],
   "source": [
    "(train_data,train_label), (test_data, test_label) = boston_dataset.load_data()"
   ]
  },
  {
   "cell_type": "code",
   "execution_count": 4,
   "metadata": {},
   "outputs": [],
   "source": [
    "train_label = train_label[np.newaxis].T"
   ]
  },
  {
   "cell_type": "code",
   "execution_count": 5,
   "metadata": {},
   "outputs": [],
   "source": [
    "total_train_data = train_data\n",
    "total_train_data = np.append(total_train_data,train_label, axis=1)"
   ]
  },
  {
   "cell_type": "code",
   "execution_count": 6,
   "metadata": {},
   "outputs": [
    {
     "name": "stdout",
     "output_type": "stream",
     "text": [
      "WARNING:tensorflow:From /usr/local/lib/python3.5/dist-packages/tensorflow_probability/python/stats/sample_stats.py:688: setdiff1d (from tensorflow.python.ops.array_ops) is deprecated and will be removed after 2018-11-30.\n",
      "Instructions for updating:\n",
      "This op will be removed after the deprecation date. Please switch to tf.sets.difference().\n"
     ]
    }
   ],
   "source": [
    "correlation_matrix = tfp.stats.correlation(total_train_data, sample_axis=0, event_axis=-1)"
   ]
  },
  {
   "cell_type": "code",
   "execution_count": null,
   "metadata": {},
   "outputs": [],
   "source": []
  },
  {
   "cell_type": "code",
   "execution_count": 7,
   "metadata": {},
   "outputs": [],
   "source": [
    "X = tf.placeholder(tf.float64, [None, 2])\n",
    "Y = tf.placeholder(tf.float64, [None, 1])"
   ]
  },
  {
   "cell_type": "code",
   "execution_count": 8,
   "metadata": {},
   "outputs": [
    {
     "name": "stdout",
     "output_type": "stream",
     "text": [
      "WARNING:tensorflow:From /usr/local/lib/python3.5/dist-packages/tensorflow/python/framework/op_def_library.py:263: colocate_with (from tensorflow.python.framework.ops) is deprecated and will be removed in a future version.\n",
      "Instructions for updating:\n",
      "Colocations handled automatically by placer.\n"
     ]
    }
   ],
   "source": [
    "W = tf.Variable(tf.zeros([2, 1], dtype=tf.float64))\n",
    "B = tf.Variable(tf.zeros([1], dtype=tf.float64))"
   ]
  },
  {
   "cell_type": "code",
   "execution_count": 9,
   "metadata": {},
   "outputs": [],
   "source": [
    "Y1 = tf.add(tf.matmul(X,W),B)"
   ]
  },
  {
   "cell_type": "code",
   "execution_count": 10,
   "metadata": {},
   "outputs": [],
   "source": [
    "cost = tf.reduce_mean(tf.square(Y-Y1))"
   ]
  },
  {
   "cell_type": "code",
   "execution_count": 11,
   "metadata": {},
   "outputs": [],
   "source": [
    "train_step = tf.train.GradientDescentOptimizer(0.000001).minimize(cost) "
   ]
  },
  {
   "cell_type": "code",
   "execution_count": 12,
   "metadata": {},
   "outputs": [],
   "source": [
    "init = tf.global_variables_initializer()"
   ]
  },
  {
   "cell_type": "code",
   "execution_count": 13,
   "metadata": {},
   "outputs": [],
   "source": [
    "sess = tf.Session()"
   ]
  },
  {
   "cell_type": "code",
   "execution_count": 14,
   "metadata": {},
   "outputs": [],
   "source": [
    "sess.run(init)"
   ]
  },
  {
   "cell_type": "code",
   "execution_count": 15,
   "metadata": {},
   "outputs": [],
   "source": [
    "corr_matrix = sess.run(correlation_matrix)"
   ]
  },
  {
   "cell_type": "code",
   "execution_count": 16,
   "metadata": {},
   "outputs": [
    {
     "data": {
      "text/plain": [
       "<Figure size 640x480 with 2 Axes>"
      ]
     },
     "metadata": {},
     "output_type": "display_data"
    }
   ],
   "source": [
    "#This method takes a correlation array as an input and outputs a heatmap\n",
    "def correlation_matrix(df):\n",
    "    from matplotlib import pyplot as plt\n",
    "    from matplotlib import cm as cm\n",
    "\n",
    "    fig = plt.figure()\n",
    "    ax1 = fig.add_subplot(111)\n",
    "    cmap = cm.get_cmap('jet', 30)\n",
    "    cax = ax1.imshow(df, interpolation=\"nearest\", cmap=cmap)\n",
    "    ax1.grid(True)\n",
    "    # Add colorbar, make sure to specify tick locations to match desired ticklabels\n",
    "    fig.colorbar(cax, ticks=[-1, -0.75, -0.5, -0.25, 0,.25,.50,.75,1])\n",
    "    plt.show()\n",
    "correlation_matrix(corr_matrix)"
   ]
  },
  {
   "cell_type": "code",
   "execution_count": 17,
   "metadata": {},
   "outputs": [],
   "source": [
    "#This method derived the parameters post analyzing the correlation metrics\n",
    "def getCorrelationParameters(correlation_matrix,label_index = -1 , correlation_threshold = 0.5):\n",
    "    if label_index == -1:\n",
    "        label_index = len(correlation_matrix) - 1\n",
    "    targetParams = [i for i,x in enumerate(correlation_matrix[label_index]) if (abs(x) >= abs(correlation_threshold)) and (i != label_index)]\n",
    "    exclude = []\n",
    "    for i in range(0, len(targetParams)):\n",
    "        for j in range(i, len(targetParams)):\n",
    "            if (i != j) and (abs(correlation_matrix[i][j]) >= abs(correlation_threshold)):\n",
    "                param = i if correlation_matrix[label_index][i] >= correlation_matrix[label_index][j] else j\n",
    "                if (i not in exclude) and (j not in exclude):\n",
    "                    exclude.append(param)\n",
    "    \n",
    "    result =  list(set(targetParams) - set(exclude))\n",
    "    result.sort()\n",
    "    return result\n",
    "meaningful_fields = getCorrelationParameters(corr_matrix)"
   ]
  },
  {
   "cell_type": "code",
   "execution_count": 18,
   "metadata": {},
   "outputs": [],
   "source": [
    "def reduceDataframe(array, columns):\n",
    "    arrayReduced = array[:, columns]\n",
    "    return arrayReduced\n",
    "train_data = reduceDataframe(total_train_data, meaningful_fields)"
   ]
  },
  {
   "cell_type": "code",
   "execution_count": 19,
   "metadata": {},
   "outputs": [
    {
     "data": {
      "text/plain": [
       "(404, 2)"
      ]
     },
     "execution_count": 19,
     "metadata": {},
     "output_type": "execute_result"
    }
   ],
   "source": [
    "train_data.shape"
   ]
  },
  {
   "cell_type": "code",
   "execution_count": 20,
   "metadata": {},
   "outputs": [],
   "source": [
    "feed = {X: train_data, Y: train_label}"
   ]
  },
  {
   "cell_type": "code",
   "execution_count": 21,
   "metadata": {},
   "outputs": [
    {
     "name": "stdout",
     "output_type": "stream",
     "text": [
      "W: [[ 4.78731617]\n",
      " [-0.64254939]]\n",
      "B: [0.58262141]\n"
     ]
    }
   ],
   "source": [
    "epoch = 10000000\n",
    "for i in range(0,epoch):\n",
    "    #print(\"Iteration: {}\".format(i))\n",
    "    sess.run(train_step,feed_dict = feed)\n",
    "    #print(\"W: {}\".format(sess.run(W)))\n",
    "    #print(\"B: {}\".format(sess.run(B)))\n",
    "print(\"W: {}\".format(sess.run(W)))\n",
    "print(\"B: {}\".format(sess.run(B)))"
   ]
  },
  {
   "cell_type": "code",
   "execution_count": 22,
   "metadata": {},
   "outputs": [],
   "source": [
    "w = sess.run(W)\n",
    "b = sess.run(B)"
   ]
  },
  {
   "cell_type": "code",
   "execution_count": 23,
   "metadata": {},
   "outputs": [],
   "source": [
    "test_data = reduceDataframe(test_data, meaningful_fields)"
   ]
  },
  {
   "cell_type": "code",
   "execution_count": 24,
   "metadata": {},
   "outputs": [
    {
     "name": "stdout",
     "output_type": "stream",
     "text": [
      "0.1498461710962739\n"
     ]
    }
   ],
   "source": [
    "error = 0\n",
    "for i in range(test_data.shape[0]):\n",
    "    #print(sess.run(tf.add(tf.matmul(w.T, test_data[i][np.newaxis].T), b))[0][0], test_label[i])\n",
    "    error = pow(sess.run(tf.add(tf.matmul(w.T, test_data[i][np.newaxis].T), b))[0][0] - test_label[i], 2)\n",
    "error /= test_data.shape[0]\n",
    "print(pow(error,0.5))"
   ]
  }
 ],
 "metadata": {
  "kernelspec": {
   "display_name": "Python 3",
   "language": "python",
   "name": "python3"
  },
  "language_info": {
   "codemirror_mode": {
    "name": "ipython",
    "version": 3
   },
   "file_extension": ".py",
   "mimetype": "text/x-python",
   "name": "python",
   "nbconvert_exporter": "python",
   "pygments_lexer": "ipython3",
   "version": "3.5.2"
  }
 },
 "nbformat": 4,
 "nbformat_minor": 2
}
